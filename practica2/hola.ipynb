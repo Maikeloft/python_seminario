{
 "cells": [
  {
   "cell_type": "markdown",
   "metadata": {},
   "source": [
    "5. Para la aceptación de un artículo en un congreso se definen las siguientes\n",
    "especificaciones que deben cumplir y recomendaciones de escritura:  \n",
    "yítulo:  \n",
    "10 palabras como máximo  \n",
    "cada oración del resumen:  \n",
    "hasta 12 palabras: fácil de leer  \n",
    "entre 13-17 palabras: aceptable para leer  \n",
    "entre 18-25 palabras: difícil de leer  \n",
    "mas de 25 palabras: muy difícil  \n",
    "\n",
    "\n",
    "\n",
    "Es importante destacar que los números no se consideran palabras al momento del\n",
    "análisis por su facilidad de lectura.\n",
    "Dado un artículo en formato string, defina si cumple las especificaciones del título y\n",
    "cuántas oraciones tiene de cada categoría. El formato estándar en que recibe el string\n",
    "tiene la siguiente forma:"
   ]
  },
  {
   "cell_type": "code",
   "execution_count": 126,
   "metadata": {},
   "outputs": [],
   "source": [
    "article = \"\"\" título: Experiences in Developing a Distributed \n",
    "Agent-based Modeling Toolkit with Python Version 3\n",
    "resumen: Distributed agent-based modeling (ABM) on high-performance\n",
    "computing resources provides the promise of capturing unprecedented\n",
    "details of large-scale complex systems. However, the specialized\n",
    "knowledge required for developing such ABMs creates barriers to wider\n",
    "adoption and utilization. Here we present our experiences in\n",
    "developing an initial implementation of Repast4Py, a Python-based\n",
    "distributed ABM toolkit. We build on our experiences in developing ABM\n",
    "toolkits, including Repast for High Performance Computing (Repast\n",
    "HPC), to identify the key elements of a useful distributed ABM\n",
    "toolkit. We leverage the Numba, NumPy, and PyTorch packages and the\n",
    "Python C-API to create a scalable modeling system that can exploit the\n",
    "largest HPC resources and emerging computing architectures.  \"\"\""
   ]
  },
  {
   "cell_type": "markdown",
   "metadata": {},
   "source": []
  },
  {
   "cell_type": "code",
   "execution_count": 127,
   "metadata": {},
   "outputs": [
    {
     "name": "stdout",
     "output_type": "stream",
     "text": [
      "{'Experiences in Developing a Distributed \\nAgent-based Modeling Toolkit with Python Version '}\n",
      "----------------------------------------------------------------------------------------------------\n",
      "{'Distributed agent-based modeling (ABM) on high-performance\\ncomputing resources provides the promise of capturing unprecedented\\ndetails of large-scale complex systems. However, the specialized\\nknowledge required for developing such ABMs creates barriers to wider\\nadoption and utilization. Here we present our experiences in\\ndeveloping an initial implementation of Repast4Py, a Python-based\\ndistributed ABM toolkit. We build on our experiences in developing ABM\\ntoolkits, including Repast for High Performance Computing (Repast\\nHPC), to identify the key elements of a useful distributed ABM\\ntoolkit. We leverage the Numba, NumPy, and PyTorch packages and the\\nPython C-API to create a scalable modeling system that can exploit the\\nlargest HPC resources and emerging computing architectures.  '}\n"
     ]
    }
   ],
   "source": [
    "titulo = article.split(\"título: \")[1].split(\"3\")[0]\n",
    "titulo = titulo.replace(\"4\",\"\")\n",
    "\n",
    "resumen = article.split(\"resumen: \")[1]\n",
    "print({titulo})\n",
    "print(\"-\" * 100)\n",
    "print({resumen})"
   ]
  },
  {
   "cell_type": "code",
   "execution_count": 128,
   "metadata": {},
   "outputs": [
    {
     "name": "stdout",
     "output_type": "stream",
     "text": [
      "Titulo not okey\n"
     ]
    }
   ],
   "source": [
    "list_words = titulo.split(\" \")\n",
    "\n",
    "if len(list_words) <= 10:\n",
    "    print(\"Titulo okey\")\n",
    "else:\n",
    "    print(\"Titulo not okey\")"
   ]
  },
  {
   "cell_type": "code",
   "execution_count": 129,
   "metadata": {},
   "outputs": [
    {
     "name": "stdout",
     "output_type": "stream",
     "text": [
      "['Distributed agent-based modeling (ABM) on high-performance\\ncomputing resources provides the promise of capturing unprecedented\\ndetails of large-scale complex systems', 'However, the specialized\\nknowledge required for developing such ABMs creates barriers to wider\\nadoption and utilization', 'Here we present our experiences in\\ndeveloping an initial implementation of Repast4Py, a Python-based\\ndistributed ABM toolkit', 'We build on our experiences in developing ABM\\ntoolkits, including Repast for High Performance Computing (Repast\\nHPC), to identify the key elements of a useful distributed ABM\\ntoolkit', 'We leverage the Numba, NumPy, and PyTorch packages and the\\nPython C-API to create a scalable modeling system that can exploit the\\nlargest HPC resources and emerging computing architectures', ' ']\n",
      "17 - \n",
      "14 - \n",
      "15 - \n",
      "25 - \n",
      "27 - \n",
      "2 - \n"
     ]
    }
   ],
   "source": [
    "oraciones = resumen.split(\". \")\n",
    "diccionario = {\"fácil de leer\" : 0, \n",
    "               \"aceptable para leer\" : 0,  \n",
    "                \"dificil de leer\" :0, \n",
    "                \"muy dificil\" :0}\n",
    "print(oraciones)\n",
    "for oracion in oraciones:\n",
    "    palabras = oracion.split(\" \")\n",
    "    if len(palabras) <=12:\n",
    "        diccionario[\"fácil de leer\"] +=1\n",
    "    elif len(palabras) >=13 and len(palabras)<=17:\n",
    "        diccionario[\"aceptable para leer\"] +=1\n",
    "    elif len(palabras) >=18 and len(palabras)<=25:\n",
    "        diccionario[\"dificil de leer\"] +=1\n",
    "    else:\n",
    "        diccionario[\"muy dificil\"] +=1"
   ]
  },
  {
   "cell_type": "code",
   "execution_count": 130,
   "metadata": {},
   "outputs": [
    {
     "name": "stdout",
     "output_type": "stream",
     "text": [
      "{'fácil de leer': 1, 'aceptable para leer': 3, 'dificil de leer': 1, 'muy dificil': 1}\n"
     ]
    }
   ],
   "source": [
    "print(diccionario)"
   ]
  }
 ],
 "metadata": {
  "kernelspec": {
   "display_name": "Python 3",
   "language": "python",
   "name": "python3"
  },
  "language_info": {
   "codemirror_mode": {
    "name": "ipython",
    "version": 3
   },
   "file_extension": ".py",
   "mimetype": "text/x-python",
   "name": "python",
   "nbconvert_exporter": "python",
   "pygments_lexer": "ipython3",
   "version": "3.11.7"
  }
 },
 "nbformat": 4,
 "nbformat_minor": 2
}
