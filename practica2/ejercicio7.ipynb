{
 "cells": [
  {
   "cell_type": "markdown",
   "metadata": {},
   "source": [
    "7. Dada una frase contar mayúsculas, minúsculas, caracteres no letras y la cantidad de\n",
    "palabras sin distinguir entre mayúsculas y minúsculas."
   ]
  },
  {
   "cell_type": "code",
   "execution_count": 5,
   "metadata": {},
   "outputs": [
    {
     "name": "stdout",
     "output_type": "stream",
     "text": [
      "en mayusculas hay: 1\n",
      "en minusculas hay: 120\n",
      "en no letras hay: 13\n",
      "La cantidad de palabras en la frase es: 30\n"
     ]
    }
   ],
   "source": [
    "text = \"\"\" La brecha salarial alcanzó el 27,7%: las mujeres ocupadas\n",
    "debieron trabajar 8 días y 10 horas más que los varones ocupados para\n",
    "ganar lo mismo que ellos en un mes. \"\"\"\n",
    "\n",
    "import string\n",
    "\n",
    "letras_minusculas = string.ascii_lowercase\n",
    "letras_mayusculas = string.ascii_uppercase\n",
    "\n",
    "contador = { \"mayusculas\" : 0,\n",
    "            \"minusculas\" : 0,\n",
    "            \"no letras\" : 0\n",
    "}\n",
    "\n",
    "palabras = text.split()\n",
    "for word in palabras:\n",
    "    for letra in word:\n",
    "        if letra in letras_minusculas:\n",
    "            contador[\"minusculas\"] +=1\n",
    "        elif letra in letras_mayusculas:\n",
    "            contador[\"mayusculas\"] +=1\n",
    "        else:\n",
    "            contador[\"no letras\"] += 1\n",
    "for tipo, cantidad in contador.items():\n",
    "    print(f\"en {tipo} hay: {cantidad}\")\n",
    "print(f\"La cantidad de palabras en la frase es: {len(palabras)}\")\n"
   ]
  }
 ],
 "metadata": {
  "kernelspec": {
   "display_name": "Python 3",
   "language": "python",
   "name": "python3"
  },
  "language_info": {
   "codemirror_mode": {
    "name": "ipython",
    "version": 3
   },
   "file_extension": ".py",
   "mimetype": "text/x-python",
   "name": "python",
   "nbconvert_exporter": "python",
   "pygments_lexer": "ipython3",
   "version": "3.11.7"
  }
 },
 "nbformat": 4,
 "nbformat_minor": 2
}
