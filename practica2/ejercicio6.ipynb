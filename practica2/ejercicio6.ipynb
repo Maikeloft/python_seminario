{
 "cells": [
  {
   "cell_type": "markdown",
   "metadata": {},
   "source": [
    "6. Dada una frase y un string ingresados por teclado (en ese orden), genere una lista de\n",
    "palabras, y sobre ella, informe la cantidad de palabras en las que se encuentra el\n",
    "string. No distingir entre mayúsculas y minúsculas"
   ]
  },
  {
   "cell_type": "code",
   "execution_count": 4,
   "metadata": {},
   "outputs": [
    {
     "name": "stdout",
     "output_type": "stream",
     "text": [
      "la palabra tigres aparece 2 veces en la frase Tres tristes tigres tragaban trigo en un trigal en tres tristes trastos tragaban trigo tres tristes tigres\n"
     ]
    }
   ],
   "source": [
    "frase = input(\"ingrese una frase: \")\n",
    "string = input(\"ingrese un string\")\n",
    "frase = frase.replace(\",\",\"\")\n",
    "list_phrase = frase.split(\" \")\n",
    "contador = 0\n",
    "for palabra in list_phrase:\n",
    "    if string.lower() == palabra.lower():\n",
    "        contador += 1\n",
    "print(f\"la palabra {string} aparece {contador} veces en la frase {frase}\")"
   ]
  }
 ],
 "metadata": {
  "kernelspec": {
   "display_name": "Python 3",
   "language": "python",
   "name": "python3"
  },
  "language_info": {
   "codemirror_mode": {
    "name": "ipython",
    "version": 3
   },
   "file_extension": ".py",
   "mimetype": "text/x-python",
   "name": "python",
   "nbconvert_exporter": "python",
   "pygments_lexer": "ipython3",
   "version": "3.11.7"
  }
 },
 "nbformat": 4,
 "nbformat_minor": 2
}
